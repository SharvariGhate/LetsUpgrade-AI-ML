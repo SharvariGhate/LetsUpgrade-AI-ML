{
  "nbformat": 4,
  "nbformat_minor": 0,
  "metadata": {
    "colab": {
      "name": "AI-ML_ D10 Assignment.ipynb",
      "provenance": []
    },
    "kernelspec": {
      "name": "python3",
      "display_name": "Python 3"
    }
  },
  "cells": [
    {
      "cell_type": "code",
      "metadata": {
        "id": "1QBLAbBT2-HP",
        "colab_type": "code",
        "colab": {}
      },
      "source": [
        ""
      ],
      "execution_count": null,
      "outputs": []
    },
    {
      "cell_type": "markdown",
      "metadata": {
        "id": "k5XovWFe3AIJ",
        "colab_type": "text"
      },
      "source": [
        "#Hypothesis examples\n",
        "1) There are minimum two smart phones in every household <br />\n",
        "2) Instead of planting outdoor plants in home people have started loving terrarium and indoor plants with smaller sizes <br />\n",
        "3) Many people who do exercise prefer to drink protein shakes instead of consuming natural source of protein <br />\n",
        "4) Most of the married couples prefer to adopt a child from orphanage <br />\n",
        "5) Most of the people love wearing comfortable clothes rather than going with uncomfortable trendy clothes <br />\n",
        "6) People prefer using hand sanitizer than washing hands with soap <br />\n",
        "7) Age has no difference on how cell phones are used for internet access <br />\n",
        "8) People do not like chewing tablets in form of medicines <br />\n",
        "9) Many people love sweets than spicy food <br /> \n",
        "10) Children learn quickly than adults <br />\n"
      ]
    }
  ]
}