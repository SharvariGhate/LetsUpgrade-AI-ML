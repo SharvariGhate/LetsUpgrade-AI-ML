{
 "cells": [
  {
   "cell_type": "markdown",
   "metadata": {},
   "source": [
    "# 1. Create a 3x3x3 array with random values "
   ]
  },
  {
   "cell_type": "code",
   "execution_count": 1,
   "metadata": {
    "scrolled": true
   },
   "outputs": [
    {
     "name": "stdout",
     "output_type": "stream",
     "text": [
      "[[[0.15169047 0.88818812 0.04654441]\n",
      "  [0.41413906 0.9336372  0.97964221]\n",
      "  [0.31707933 0.5324057  0.87465544]]\n",
      "\n",
      " [[0.8688147  0.30995251 0.7409804 ]\n",
      "  [0.64322174 0.9174826  0.26818884]\n",
      "  [0.21626055 0.7820993  0.23172598]]\n",
      "\n",
      " [[0.09283765 0.33834444 0.26857557]\n",
      "  [0.07935334 0.56864874 0.32209625]\n",
      "  [0.01183273 0.58684037 0.96485765]]]\n"
     ]
    }
   ],
   "source": [
    "import numpy as np\n",
    "arr1 = np.random.random((3,3,3))\n",
    "print(arr1)"
   ]
  },
  {
   "cell_type": "markdown",
   "metadata": {},
   "source": [
    "# 2.Create a 5x5 matrix with values 1,2,3,4 just below the diagonal"
   ]
  },
  {
   "cell_type": "code",
   "execution_count": 2,
   "metadata": {},
   "outputs": [
    {
     "name": "stdout",
     "output_type": "stream",
     "text": [
      "[[1 0 0 0 0]\n",
      " [0 2 0 0 0]\n",
      " [0 0 3 0 0]\n",
      " [0 0 0 4 0]\n",
      " [0 0 0 0 5]]\n"
     ]
    }
   ],
   "source": [
    "arr2 = np.diag([1, 2, 3, 4, 5])\n",
    "print(arr2)"
   ]
  },
  {
   "cell_type": "markdown",
   "metadata": {},
   "source": [
    "# 3.Create a 8x8 matrix and fill it with a checkerboard pattern"
   ]
  },
  {
   "cell_type": "code",
   "execution_count": 3,
   "metadata": {},
   "outputs": [
    {
     "data": {
      "text/plain": [
       "array([[0, 1, 0, 1, 0, 1, 0, 1],\n",
       "       [1, 0, 1, 0, 1, 0, 1, 0],\n",
       "       [0, 1, 0, 1, 0, 1, 0, 1],\n",
       "       [1, 0, 1, 0, 1, 0, 1, 0],\n",
       "       [0, 1, 0, 1, 0, 1, 0, 1],\n",
       "       [1, 0, 1, 0, 1, 0, 1, 0],\n",
       "       [0, 1, 0, 1, 0, 1, 0, 1],\n",
       "       [1, 0, 1, 0, 1, 0, 1, 0]])"
      ]
     },
     "execution_count": 3,
     "metadata": {},
     "output_type": "execute_result"
    }
   ],
   "source": [
    "arr3 = np.zeros((8, 8), dtype=int)\n",
    "arr3[1::2,::2]=1\n",
    "arr3[::2,1::2]=1\n",
    "arr3"
   ]
  },
  {
   "cell_type": "markdown",
   "metadata": {},
   "source": [
    "# 4. Normalize a 5x5 random matrix"
   ]
  },
  {
   "cell_type": "code",
   "execution_count": 4,
   "metadata": {},
   "outputs": [
    {
     "name": "stdout",
     "output_type": "stream",
     "text": [
      "[[0.48883442 0.19274579 0.03565987 0.87406988 0.07684155]\n",
      " [0.07663398 0.36895716 0.30810042 0.09677039 0.34285899]\n",
      " [0.90020038 0.22660433 0.76532046 0.61567121 0.38520274]\n",
      " [0.0251705  0.56199661 0.12061343 0.98017795 0.35664932]\n",
      " [0.81579811 0.00282789 0.35822141 0.14076446 0.48323124]]\n",
      "\n",
      "\n",
      "Normalized array is....\n",
      "[[0.49726966 0.19431922 0.03359285 0.89143289 0.07572892]\n",
      " [0.07551653 0.37461426 0.31234717 0.0961196  0.34791127]\n",
      " [0.91816896 0.22896243 0.78016322 0.62704587 0.39123633]\n",
      " [0.0228604  0.57212737 0.1205152  1.         0.36202118]\n",
      " [0.83181068 0.         0.36362971 0.14113323 0.49153662]]\n"
     ]
    }
   ],
   "source": [
    "arr4=np.random.random((5,5))\n",
    "print(arr4)\n",
    "\n",
    "mx=arr4.max()\n",
    "mn=arr4.min()\n",
    "\n",
    "arr4=(arr4-mn)/(mx-mn)\n",
    "print(\"\\n\\nNormalized array is....\")\n",
    "print(arr4)"
   ]
  },
  {
   "cell_type": "markdown",
   "metadata": {},
   "source": [
    "# 5.  How to find common values between two arrays?"
   ]
  },
  {
   "cell_type": "code",
   "execution_count": 6,
   "metadata": {},
   "outputs": [
    {
     "name": "stdout",
     "output_type": "stream",
     "text": [
      "[[ 1  2 30]\n",
      " [ 4 50  6]]\n",
      "[[  1 100   2]\n",
      " [  4 400  50]]\n",
      "The common values are.....\n",
      " [ 1  2  4 50]\n"
     ]
    }
   ],
   "source": [
    "arr5=np.array([[1,2,30],[4,50,6]])\n",
    "arr6=np.array([[1,100,2],[4,400,50]])\n",
    "print(arr5)\n",
    "print(arr6)\n",
    "\n",
    "print(\"The common values are.....\\n\",np.intersect1d(arr5,arr6))"
   ]
  },
  {
   "cell_type": "markdown",
   "metadata": {},
   "source": [
    "# 6.How to get the dates of yesterday, today and tomorrow?"
   ]
  },
  {
   "cell_type": "code",
   "execution_count": 7,
   "metadata": {},
   "outputs": [
    {
     "name": "stdout",
     "output_type": "stream",
     "text": [
      "Yesterday date: 2020-08-05\n",
      "today's date: 2020-08-06\n",
      "tommorow's date: 2020-08-07\n"
     ]
    }
   ],
   "source": [
    "yesterday=np.datetime64('today','D')-np.timedelta64(1, 'D')\n",
    "print(\"Yesterday date:\",yesterday)\n",
    "\n",
    "today=np.datetime64('today','D')\n",
    "print(\"today's date:\",today)\n",
    "\n",
    "tomorrow=np.datetime64('today','D')+np.timedelta64(1,'D')\n",
    "print(\"tommorow's date:\",tomorrow)"
   ]
  },
  {
   "cell_type": "markdown",
   "metadata": {},
   "source": [
    "# 7. Consider two random array A and B, check if they are equal"
   ]
  },
  {
   "cell_type": "code",
   "execution_count": 8,
   "metadata": {},
   "outputs": [
    {
     "name": "stdout",
     "output_type": "stream",
     "text": [
      "[[1. 0. 0. 0. 0.]\n",
      " [0. 1. 0. 0. 0.]\n",
      " [0. 0. 1. 0. 0.]\n",
      " [0. 0. 0. 1. 0.]\n",
      " [0. 0. 0. 0. 1.]] \n",
      "\n",
      " [[0. 0. 0. 0. 0.]\n",
      " [0. 0. 0. 0. 0.]\n",
      " [0. 0. 0. 0. 0.]\n",
      " [0. 0. 0. 0. 0.]\n",
      " [0. 0. 0. 0. 0.]]\n",
      "False\n"
     ]
    }
   ],
   "source": [
    "arr7=np.eye(5,5)\n",
    "arr8=np.zeros_like(arr7)\n",
    "\n",
    "print(arr7,\"\\n\\n\",arr8)\n",
    "\n",
    "chck=np.allclose(arr7,arr8)\n",
    "print(chck)"
   ]
  },
  {
   "cell_type": "markdown",
   "metadata": {},
   "source": [
    "# 8.Create random vector of size 10 and replace the maximum value by 0 "
   ]
  },
  {
   "cell_type": "code",
   "execution_count": 9,
   "metadata": {},
   "outputs": [
    {
     "name": "stdout",
     "output_type": "stream",
     "text": [
      "[0.21177468 0.23851635 0.93972928 0.33225428 0.9692533  0.52945471\n",
      " 0.86208756 0.51351424 0.02730176 0.21680719]\n",
      "[0.21177468 0.23851635 0.93972928 0.33225428 0.         0.52945471\n",
      " 0.86208756 0.51351424 0.02730176 0.21680719]\n"
     ]
    }
   ],
   "source": [
    "n=np.random.random(10)\n",
    "print(n)\n",
    "\n",
    "n[n.argmax()]=0\n",
    "print(n)"
   ]
  },
  {
   "cell_type": "markdown",
   "metadata": {},
   "source": [
    "# 9. How to print all the values of an array?"
   ]
  },
  {
   "cell_type": "code",
   "execution_count": 10,
   "metadata": {},
   "outputs": [
    {
     "name": "stdout",
     "output_type": "stream",
     "text": [
      "1\n",
      "2\n",
      "3\n",
      "4\n",
      "5\n",
      "6\n"
     ]
    }
   ],
   "source": [
    "arr9=np.array([[1,2,3],[4,5,6]])\n",
    "for i in arr9:\n",
    "    for k in i:\n",
    "        print(k)"
   ]
  },
  {
   "cell_type": "markdown",
   "metadata": {},
   "source": [
    "# 10.Subtract the mean of each row of a matrix"
   ]
  },
  {
   "cell_type": "code",
   "execution_count": 11,
   "metadata": {},
   "outputs": [
    {
     "name": "stdout",
     "output_type": "stream",
     "text": [
      "[[0.04419235 0.06151055 0.87007412 0.55825116 0.34571701]\n",
      " [0.28227523 0.65066839 0.8883126  0.61352211 0.57201101]\n",
      " [0.11266123 0.9810611  0.78389393 0.23790784 0.66904326]\n",
      " [0.57714432 0.33835582 0.97601258 0.61730328 0.26077963]]\n",
      "\n",
      "\n",
      "After Subtracting mean...\n",
      "\n",
      " [[-0.33175669 -0.31443849  0.49412508  0.18230212 -0.03023202]\n",
      " [-0.31908264  0.04931052  0.28695474  0.01216424 -0.02934686]\n",
      " [-0.44425224  0.42414763  0.22698046 -0.31900563  0.11212978]\n",
      " [ 0.02322519 -0.2155633   0.42209345  0.06338416 -0.2931395 ]]\n"
     ]
    }
   ],
   "source": [
    "y=np.random.random((4,5))\n",
    "print(y)\n",
    "\n",
    "y=y-y.mean(axis=1,keepdims=True)\n",
    "print(\"\\n\\nAfter Subtracting mean...\\n\\n\",y)"
   ]
  },
  {
   "cell_type": "markdown",
   "metadata": {},
   "source": [
    "# 11.Consider a given vector, how to add 1 to each element indexed by a second vector (be careful with repeated indices)? "
   ]
  },
  {
   "cell_type": "code",
   "execution_count": 12,
   "metadata": {
    "scrolled": true
   },
   "outputs": [
    {
     "name": "stdout",
     "output_type": "stream",
     "text": [
      "[[0.88150691 0.69797859]\n",
      " [0.32733407 0.81054199]]\n",
      "\n",
      "\n",
      "Updated Matrix\n",
      "\n",
      " [[1.88150691 1.69797859]\n",
      " [1.32733407 1.81054199]]\n"
     ]
    }
   ],
   "source": [
    "l = np.random.random((2,2))\n",
    "print(l)\n",
    "m=np.ones_like(l)\n",
    "l+=m\n",
    "print(\"\\n\\nUpdated Matrix\\n\\n\",l)"
   ]
  },
  {
   "cell_type": "markdown",
   "metadata": {},
   "source": [
    "# 12.How to get the diagonal of a dot product?"
   ]
  },
  {
   "cell_type": "code",
   "execution_count": 13,
   "metadata": {},
   "outputs": [
    {
     "name": "stdout",
     "output_type": "stream",
     "text": [
      "[[1. 0. 0. 0. 0.]\n",
      " [0. 1. 0. 0. 0.]\n",
      " [0. 0. 1. 0. 0.]\n",
      " [0. 0. 0. 1. 0.]\n",
      " [0. 0. 0. 0. 1.]]\n"
     ]
    },
    {
     "data": {
      "text/plain": [
       "array([[1., 1., 1., 1., 1.],\n",
       "       [1., 1., 1., 1., 1.],\n",
       "       [1., 1., 1., 1., 1.],\n",
       "       [1., 1., 1., 1., 1.],\n",
       "       [1., 1., 1., 1., 1.]])"
      ]
     },
     "execution_count": 13,
     "metadata": {},
     "output_type": "execute_result"
    }
   ],
   "source": [
    "print(arr7)\n",
    "arr7.dot(np.ones_like(arr7))"
   ]
  },
  {
   "cell_type": "markdown",
   "metadata": {},
   "source": [
    "# 13.How to find the most frequent value in an array?"
   ]
  },
  {
   "cell_type": "code",
   "execution_count": 14,
   "metadata": {},
   "outputs": [
    {
     "name": "stdout",
     "output_type": "stream",
     "text": [
      "[7 9 8 5 3 8 8 3 5 2 6 2 6 1 3 9 1 0 5 5 8 0 9 3 5 5 1 0 0 2]\n",
      "5\n"
     ]
    }
   ],
   "source": [
    "ap = np.random.randint(0,10,30)\n",
    "print(ap)\n",
    "\n",
    "print(np.bincount(ap).argmax())"
   ]
  },
  {
   "cell_type": "markdown",
   "metadata": {},
   "source": [
    "# 14.How to get the n largest values of an array"
   ]
  },
  {
   "cell_type": "code",
   "execution_count": 15,
   "metadata": {},
   "outputs": [
    {
     "name": "stdout",
     "output_type": "stream",
     "text": [
      "[1 0 4 4 6 5 3 8 1 3 7 1 2 4 9 4 0 7 3 4 3 4 5 3 5 5 8 2 3 8]\n",
      "[9]\n"
     ]
    }
   ],
   "source": [
    "ap = np.random.randint(0,10,30)\n",
    "print(ap)\n",
    "\n",
    "print(ap[np.argsort(ap)[-1:]])"
   ]
  },
  {
   "cell_type": "markdown",
   "metadata": {},
   "source": [
    "# 15.How to create a record array from a regular array?"
   ]
  },
  {
   "cell_type": "code",
   "execution_count": 16,
   "metadata": {},
   "outputs": [
    {
     "data": {
      "text/plain": [
       "array([['Red', '34.9', '40'],\n",
       "       ['Yellow', '67.3', '78']], dtype='<U6')"
      ]
     },
     "execution_count": 16,
     "metadata": {},
     "output_type": "execute_result"
    }
   ],
   "source": [
    "a = np.array([('Red',34.9,40),('Yellow',67.3,78)])\n",
    "a"
   ]
  },
  {
   "cell_type": "code",
   "execution_count": 17,
   "metadata": {},
   "outputs": [
    {
     "data": {
      "text/plain": [
       "rec.array([('Red', '34.9', '40'), ('Yellow', '67.3', '78')],\n",
       "          dtype=[('a', '<U6'), ('b', '<U6'), ('f2', '<U6')])"
      ]
     },
     "execution_count": 17,
     "metadata": {},
     "output_type": "execute_result"
    }
   ],
   "source": [
    "result=np.core.records.fromarrays(a.T,names='a,b')\n",
    "result"
   ]
  },
  {
   "cell_type": "code",
   "execution_count": null,
   "metadata": {},
   "outputs": [],
   "source": []
  }
 ],
 "metadata": {
  "kernelspec": {
   "display_name": "Python 3",
   "language": "python",
   "name": "python3"
  },
  "language_info": {
   "codemirror_mode": {
    "name": "ipython",
    "version": 3
   },
   "file_extension": ".py",
   "mimetype": "text/x-python",
   "name": "python",
   "nbconvert_exporter": "python",
   "pygments_lexer": "ipython3",
   "version": "3.6.8"
  }
 },
 "nbformat": 4,
 "nbformat_minor": 2
}
