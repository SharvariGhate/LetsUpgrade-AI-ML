{
  "nbformat": 4,
  "nbformat_minor": 0,
  "metadata": {
    "colab": {
      "name": "AI-ML_D3 Assignment.ipynb",
      "provenance": [],
      "collapsed_sections": []
    },
    "kernelspec": {
      "name": "python3",
      "display_name": "Python 3"
    }
  },
  "cells": [
    {
      "cell_type": "markdown",
      "metadata": {
        "id": "WEs4zi0IRoB7",
        "colab_type": "text"
      },
      "source": [
        "Write a program to subtract two complex numbers in Python"
      ]
    },
    {
      "cell_type": "code",
      "metadata": {
        "id": "1nlFqTV7RplO",
        "colab_type": "code",
        "colab": {
          "base_uri": "https://localhost:8080/",
          "height": 67
        },
        "outputId": "d5084798-9f6a-460e-e459-1e3166b45bc7"
      },
      "source": [
        "a= complex(input(\"Enter first complex number: \"))\n",
        "b= complex(input(\"Enter second complex number: \"))\n",
        "print(\"Subtraction of two complex number is\",(complex(a-b)) ) \n"
      ],
      "execution_count": null,
      "outputs": [
        {
          "output_type": "stream",
          "text": [
            "Enter first complex number: 2+5j\n",
            "Enter second complex number: 3+7j\n",
            "Subtraction of two complex number is (-1-2j)\n"
          ],
          "name": "stdout"
        }
      ]
    },
    {
      "cell_type": "markdown",
      "metadata": {
        "id": "YH1IKmjNVqbK",
        "colab_type": "text"
      },
      "source": [
        "Write a program to find the fourth root of a number."
      ]
    },
    {
      "cell_type": "code",
      "metadata": {
        "id": "8O_pyiGcSisT",
        "colab_type": "code",
        "colab": {
          "base_uri": "https://localhost:8080/",
          "height": 50
        },
        "outputId": "9927bb56-5e9c-4333-e992-30d66e2d7141"
      },
      "source": [
        "\n",
        "num= int(input(\"Enter the number\" ))\n",
        "a= num**(1/4)\n",
        "print(a)\n",
        "\n"
      ],
      "execution_count": 30,
      "outputs": [
        {
          "output_type": "stream",
          "text": [
            "Enter the number81\n",
            "3.0\n"
          ],
          "name": "stdout"
        }
      ]
    },
    {
      "cell_type": "markdown",
      "metadata": {
        "id": "Dne0eBX9ZulF",
        "colab_type": "text"
      },
      "source": [
        "Write a program to swap two numbers in Python with the help of a temporary variable.\n"
      ]
    },
    {
      "cell_type": "code",
      "metadata": {
        "id": "4atvVYadZwT7",
        "colab_type": "code",
        "colab": {
          "base_uri": "https://localhost:8080/",
          "height": 67
        },
        "outputId": "41b2a998-0d3e-4bc1-f2df-04c30dfe3e25"
      },
      "source": [
        "x= int(input(\"Enter a number for x  \"))\n",
        "y= int(input(\"Enter a number for y  \"))\n",
        "\n",
        "temp=x\n",
        "x=y \n",
        "y=temp\n",
        "print(\"Value of x after swap : \", x, \" and y : \", y)\n"
      ],
      "execution_count": 59,
      "outputs": [
        {
          "output_type": "stream",
          "text": [
            "Enter a number for x  11\n",
            "Enter a number for y  55\n",
            "Value of x after swap :  55  and y :  11\n"
          ],
          "name": "stdout"
        }
      ]
    },
    {
      "cell_type": "markdown",
      "metadata": {
        "id": "bY25v_VcZ0cD",
        "colab_type": "text"
      },
      "source": [
        "Write a program to swap two numbers in Python without using a temporary variable"
      ]
    },
    {
      "cell_type": "code",
      "metadata": {
        "id": "7OE_OkteZ1bj",
        "colab_type": "code",
        "colab": {
          "base_uri": "https://localhost:8080/",
          "height": 67
        },
        "outputId": "bbfed4e4-7aa1-417c-c927-2f1239209139"
      },
      "source": [
        "x= int(input(\"Enter a number for x \"))\n",
        "y= int(input(\"Enter a number for y \"))\n",
        "\n",
        "x, y = y, x\n",
        "print(\"Value of x after swap : \", x, \" and y : \", y)"
      ],
      "execution_count": 57,
      "outputs": [
        {
          "output_type": "stream",
          "text": [
            "Enter a number for x 6\n",
            "Enter a number for y 7\n",
            "Value of x after swap :  7  and y :  6\n"
          ],
          "name": "stdout"
        }
      ]
    },
    {
      "cell_type": "markdown",
      "metadata": {
        "id": "fv-7dcLDZ2N_",
        "colab_type": "text"
      },
      "source": [
        "Write a program to convert fahrenheit to kelvin and celsius both"
      ]
    },
    {
      "cell_type": "code",
      "metadata": {
        "id": "C7dH3dIaZ6cf",
        "colab_type": "code",
        "colab": {
          "base_uri": "https://localhost:8080/",
          "height": 67
        },
        "outputId": "241fc4e5-eb8f-437d-b5b9-3474ec37f348"
      },
      "source": [
        "f = int(input(\"Enter number \"))\n",
        "c = (f - 32) * 5/9\n",
        "print(f, \"Fahrenheit converted to Celsius\", round(c,2)) \n",
        "k = (f - 32) * 5/9 + 273.15\n",
        "print(f, \"Fahrenheit converted to Kelvin\", round(k,2)) \n"
      ],
      "execution_count": 51,
      "outputs": [
        {
          "output_type": "stream",
          "text": [
            "Enter number 45\n",
            "45 Fahrenheit converted to Celsius 7.22\n",
            "45 Fahrenheit converted to Kelvin 280.37\n"
          ],
          "name": "stdout"
        }
      ]
    },
    {
      "cell_type": "markdown",
      "metadata": {
        "id": "Mz9RzLYlZ7RA",
        "colab_type": "text"
      },
      "source": [
        "Write a program to demonstrate all the available data types in Python. Hint: Use type() function."
      ]
    },
    {
      "cell_type": "code",
      "metadata": {
        "id": "jKScg4V3aBam",
        "colab_type": "code",
        "colab": {
          "base_uri": "https://localhost:8080/",
          "height": 252
        },
        "outputId": "0ecf0d1a-e7ba-44df-ed8b-17f3cf4745da"
      },
      "source": [
        "A = \"Hello World\"\t\t\n",
        "B = 1998\n",
        "C = 22.5\t\n",
        "D = 2+1j\t\n",
        "E = [\"eat\", \"sleep\", \"repeat\"]\t\t\n",
        "F = (\"eat\", \"sleep\", \"repeat\")\t\n",
        "G = range(6)\t\n",
        "H = {\"name\" : \"Sharu\", \"age\" : 21}\t\t\n",
        "I = {\"apple\", \"banana\", \"cherry\"}\t\n",
        "J = frozenset({\"eat\", \"sleep\", \"repeat\"})\t\t\n",
        "K = True\t\t\n",
        "L = b\"Hello\"\t\n",
        "M = bytearray(5)\t\t\n",
        "N = memoryview(bytes(5))\t\n",
        "\n",
        "print(type(A))\n",
        "print(type(B))\n",
        "print(type(C))\n",
        "print(type(D))\n",
        "print(type(E))\n",
        "print(type(F))\n",
        "print(type(G))\n",
        "print(type(H))\n",
        "print(type(I))\n",
        "print(type(J))\n",
        "print(type(K))\n",
        "print(type(L))\n",
        "print(type(M))\n",
        "print(type(N))"
      ],
      "execution_count": null,
      "outputs": [
        {
          "output_type": "stream",
          "text": [
            "<class 'str'>\n",
            "<class 'int'>\n",
            "<class 'float'>\n",
            "<class 'complex'>\n",
            "<class 'list'>\n",
            "<class 'tuple'>\n",
            "<class 'range'>\n",
            "<class 'dict'>\n",
            "<class 'set'>\n",
            "<class 'frozenset'>\n",
            "<class 'bool'>\n",
            "<class 'bytes'>\n",
            "<class 'bytearray'>\n",
            "<class 'memoryview'>\n"
          ],
          "name": "stdout"
        }
      ]
    },
    {
      "cell_type": "markdown",
      "metadata": {
        "id": "dwUpRnKZaCMV",
        "colab_type": "text"
      },
      "source": [
        "Q7) Create a Markdown cell in jupyter and list the steps discussed in the session by Dr. Darshan\n",
        "Ingle sir to create Github profile and upload Githubs Assignment link.\n",
        "________________________________________________________________________________\n",
        "Search github on google and we will get following website link https://github.com/ .Create github account by signing up\n",
        "# To upload or push assignments on github-- following steps should be followed\n",
        "1) We can Create assignment on any platform such as google colab, jupyter notebook, kernel. Next we have to save and download assignment in __.ipynb__ format <br />\n",
        "2) Go to github, create new repository under repository tab and rename that as __LetsUpgrade AI-ML__ after this change description heading as assignments and donot change settings of Public viewing. <br />\n",
        "3) Click on create repository and your Repository has been created <br />\n",
        "4) Now we can see that repository named __LetsUpgrade AI-ML__ has been created and we have to drag and drop __.ipynb__ file created and click on committ changes <br />\n",
        "5) We can view our files in that particular folder under repository tab under our account homepage<br />\n",
        "6) Copy the link for that particular folder next fill and submit google form given by LU team  <br />\n"
      ]
    }
  ]
}