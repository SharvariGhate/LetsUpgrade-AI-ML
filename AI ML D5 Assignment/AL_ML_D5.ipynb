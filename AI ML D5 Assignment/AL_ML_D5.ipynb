{
  "nbformat": 4,
  "nbformat_minor": 0,
  "metadata": {
    "colab": {
      "name": "AL ML_D5.ipynb",
      "provenance": []
    },
    "kernelspec": {
      "name": "python3",
      "display_name": "Python 3"
    }
  },
  "cells": [
    {
      "cell_type": "markdown",
      "metadata": {
        "id": "oXuLHMDtnowS",
        "colab_type": "text"
      },
      "source": [
        "Question 1 :\n",
        "Write a Python program to find the first 20 non-even prime natural numbers.\n"
      ]
    },
    {
      "cell_type": "code",
      "metadata": {
        "id": "qu3Nm1OJodFb",
        "colab_type": "code",
        "colab": {
          "base_uri": "https://localhost:8080/",
          "height": 34
        },
        "outputId": "7a43c044-707c-4d36-f3f8-2913e00b1eba"
      },
      "source": [
        "count=0\n",
        "for i in range(3,100 ):\n",
        "    for n in range(2,i):\n",
        "       if i%n==0:\n",
        "        break\n",
        "    else:\n",
        "      print(i , end=\"  \")\n",
        "      count=count+1\n",
        "    if count==20:\n",
        "      break\n",
        "   "
      ],
      "execution_count": 9,
      "outputs": [
        {
          "output_type": "stream",
          "text": [
            "3  5  7  11  13  17  19  23  29  31  37  41  43  47  53  59  61  67  71  73  "
          ],
          "name": "stdout"
        }
      ]
    },
    {
      "cell_type": "markdown",
      "metadata": {
        "id": "hQx6YYh-qhm3",
        "colab_type": "text"
      },
      "source": [
        "Question 2 :\n",
        "Write a Python program to implement 15 functions of string.\n"
      ]
    },
    {
      "cell_type": "code",
      "metadata": {
        "id": "PTR55rMLrv5m",
        "colab_type": "code",
        "colab": {
          "base_uri": "https://localhost:8080/",
          "height": 269
        },
        "outputId": "333e25c0-879f-4494-b94b-e021e8e21901"
      },
      "source": [
        "test=\"sharvari ghate\"\n",
        "print(test.capitalize())\n",
        "print(test.upper())\n",
        "print(test.casefold())\n",
        "print(test.count(\"a\"))\n",
        "print(test.title())\n",
        "print(test.find(\"a\", 4, 9))\n",
        "print(len(test))\n",
        "print(test.swapcase())\n",
        "print(test.zfill(20))\n",
        "print(test.strip(\"ghate\"))\n",
        "print(test.startswith(\"gha\"))\n",
        "print(test.center(30))\n",
        "print(test.encode())\n",
        "print(test.endswith(\"e\"))\n",
        "print(test.index(\"ghate\"))\n"
      ],
      "execution_count": 10,
      "outputs": [
        {
          "output_type": "stream",
          "text": [
            "Sharvari ghate\n",
            "SHARVARI GHATE\n",
            "sharvari ghate\n",
            "3\n",
            "Sharvari Ghate\n",
            "5\n",
            "14\n",
            "SHARVARI GHATE\n",
            "000000sharvari ghate\n",
            "sharvari \n",
            "False\n",
            "        sharvari ghate        \n",
            "b'sharvari ghate'\n",
            "True\n",
            "9\n"
          ],
          "name": "stdout"
        }
      ]
    },
    {
      "cell_type": "markdown",
      "metadata": {
        "id": "P71gREBXrzEg",
        "colab_type": "text"
      },
      "source": [
        "Question 3:\n",
        "Write a Python program to check if the given string is a Palindrome or Anagram or None of them.\n",
        "Display the message accordingly to the user."
      ]
    },
    {
      "cell_type": "code",
      "metadata": {
        "id": "-IPIaaLbr3Tk",
        "colab_type": "code",
        "colab": {
          "base_uri": "https://localhost:8080/",
          "height": 151
        },
        "outputId": "99e21edc-2302-4ecd-e3aa-70ed156ad20e"
      },
      "source": [
        "string1 = input(\"Enter the string sample 1\\n\")\n",
        "string2 = input(\"Enter the string sample 2\\n\")\n",
        "\n",
        "test = string1[::-1]\n",
        "if string1.upper() == test.upper():\n",
        "    print(\"\\n{} is a Palindrome\".format(string1))\n",
        "\n",
        "if sorted(string1) == sorted(string2):\n",
        "    print(\"\\n{} is a Anagram of {}\".format(string1, string2))\n",
        "\n",
        "else:\n",
        "    print(\"There is no Correlation in strings\")"
      ],
      "execution_count": 16,
      "outputs": [
        {
          "output_type": "stream",
          "text": [
            "Enter the string sample 1\n",
            "racecar\n",
            "Enter the string sample 2\n",
            "racecar\n",
            "\n",
            "racecar is a Palindrome\n",
            "\n",
            "racecar is a Anagram of racecar\n"
          ],
          "name": "stdout"
        }
      ]
    },
    {
      "cell_type": "markdown",
      "metadata": {
        "id": "-Im2g_34r37d",
        "colab_type": "text"
      },
      "source": [
        "Question 4:\n",
        "Write a Python's user defined function that removes all the additional characters from the string\n",
        "and converts it finally to lower case using built-in lower(). eg: If the string is \"Dr. Darshan Ingle\n",
        "@AI-ML Trainer\", then the output be \"drdarshaningleaimltrainer\"."
      ]
    },
    {
      "cell_type": "code",
      "metadata": {
        "id": "BkLLx3Nar665",
        "colab_type": "code",
        "colab": {
          "base_uri": "https://localhost:8080/",
          "height": 50
        },
        "outputId": "e0d21f40-f770-448a-a924-e347a89f98bc"
      },
      "source": [
        "def curate(sample):\n",
        "    new_str=\"\"\n",
        "    for i in sample:\n",
        "        if i.isalpha():\n",
        "            new_str=new_str+i\n",
        "            \n",
        "    return (print(new_str.lower()))\n",
        "    \n",
        "sample=input(\"Enter the string you want to clean \")\n",
        "curate(sample)"
      ],
      "execution_count": 20,
      "outputs": [
        {
          "output_type": "stream",
          "text": [
            "Enter the string you want to clean Dr. Darshan Ingle @AI-ML Trainer\n",
            "drdarshaningleaimltrainer\n"
          ],
          "name": "stdout"
        }
      ]
    }
  ]
}