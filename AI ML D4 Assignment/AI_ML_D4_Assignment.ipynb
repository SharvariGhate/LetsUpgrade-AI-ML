{
  "nbformat": 4,
  "nbformat_minor": 0,
  "metadata": {
    "colab": {
      "name": "AI-ML_D4 Assignment.ipynb",
      "provenance": []
    },
    "kernelspec": {
      "name": "python3",
      "display_name": "Python 3"
    }
  },
  "cells": [
    {
      "cell_type": "markdown",
      "metadata": {
        "id": "vs9bw_avMG_s",
        "colab_type": "text"
      },
      "source": [
        "Question 1 :\n",
        "Research on whether addition, subtraction, multiplication, division, floor division and modulo\n",
        "operations be performed on complex numbers. Based on your study, implement a Python\n",
        "program to demonstrate these operations."
      ]
    },
    {
      "cell_type": "code",
      "metadata": {
        "id": "vZz2Thm_MJ2s",
        "colab_type": "code",
        "colab": {
          "base_uri": "https://localhost:8080/",
          "height": 118
        },
        "outputId": "20b2194e-4ace-420a-92e0-5a18d0b6e949"
      },
      "source": [
        "a= complex(input(\"Enter first complex number: \"))\n",
        "b= complex(input(\"Enter second complex number: \"))\n",
        "\n",
        "print(\"Addition of two complex number is\",(complex(a+b)) )\n",
        "print(\"Subtraction of two complex number is\",(complex(a-b)) )\n",
        "print(\"Multiplication of two complex number is\",(complex(a*b)) )\n",
        "print(\"Divison of two complex number is\", (complex(a/b)))\n",
        "\n",
        "#Floor and modulus operators (// and % respectively) are not allowed to be used on complex number in Python"
      ],
      "execution_count": 7,
      "outputs": [
        {
          "output_type": "stream",
          "text": [
            "Enter first complex number: 3+2j\n",
            "Enter second complex number: 1+4j\n",
            "Addition of two complex number is (4+6j)\n",
            "Subtraction of two complex number is (2-2j)\n",
            "Multiplication of two complex number is (-5+14j)\n",
            "Divison of two complex number is (0.6470588235294118-0.5882352941176471j)\n"
          ],
          "name": "stdout"
        }
      ]
    },
    {
      "cell_type": "markdown",
      "metadata": {
        "id": "wm8891As8FtO",
        "colab_type": "text"
      },
      "source": [
        "Question 2 :\n",
        "Research on range() functions and its parameters. Create a markdown cell and write in your own\n",
        "words (no copy-paste from google please) what you understand about it. Implement a small\n",
        "program of your choice on the same"
      ]
    },
    {
      "cell_type": "markdown",
      "metadata": {
        "id": "l8Y8_7HAA-5K",
        "colab_type": "text"
      },
      "source": [
        "__range()__ function in python is used to return sequenced list of values (only numbers) in particular defined range. Range function has 3 parameters they are __start, stop and step__. <br />Start parameter in range gives an input from where the range should start, stop parameter gives us the last number-1 for particular defined range and step parameter in range is used for assigning the number of jumps that list should contain in defined range. <br />\n",
        "Out of these 3 parameters, start parameter is not necessary as range function starts its default range value from 0. <br />For stop parameter is essential for an integer number in range function specifying at which position to stop. <br /> And for step parameter it is not mandatory specifying the incrementation unless we have user specific demand as default increment is 1. <br /> Following is an example for illustrating use of range() function.Here range(2, 20, 2) 2 is start value and 20 is stop value and 2 is for steps"
      ]
    },
    {
      "cell_type": "code",
      "metadata": {
        "id": "i11gTGgo8I3U",
        "colab_type": "code",
        "colab": {
          "base_uri": "https://localhost:8080/",
          "height": 168
        },
        "outputId": "d16f40c3-9f47-420c-b7e3-1a1b45a91cf3"
      },
      "source": [
        "a = range(2, 20, 2)\n",
        "for n in a:\n",
        "  print(n)"
      ],
      "execution_count": 9,
      "outputs": [
        {
          "output_type": "stream",
          "text": [
            "2\n",
            "4\n",
            "6\n",
            "8\n",
            "10\n",
            "12\n",
            "14\n",
            "16\n",
            "18\n"
          ],
          "name": "stdout"
        }
      ]
    },
    {
      "cell_type": "markdown",
      "metadata": {
        "id": "tcPfzCYH8JUZ",
        "colab_type": "text"
      },
      "source": [
        "Question 3:\n",
        " Consider two numbers. Perform their subtraction and if the result of subtraction is greater than\n",
        "25, print their multiplication result else print their division result."
      ]
    },
    {
      "cell_type": "code",
      "metadata": {
        "id": "dN-K0Ryv8Nwg",
        "colab_type": "code",
        "colab": {
          "base_uri": "https://localhost:8080/",
          "height": 84
        },
        "outputId": "3c00f947-04d8-4fdd-8511-dd1ed327371e"
      },
      "source": [
        "x=int(input(\"Enter first number \"))\n",
        "y=int(input(\"Enter second number \"))\n",
        "c=x-y\n",
        "print(c)\n",
        "if c>25:\n",
        "    print(x*y)\n",
        "else:\n",
        "    print(x/y)"
      ],
      "execution_count": 10,
      "outputs": [
        {
          "output_type": "stream",
          "text": [
            "Enter first number 85\n",
            "Enter second number 38\n",
            "47\n",
            "3230\n"
          ],
          "name": "stdout"
        }
      ]
    },
    {
      "cell_type": "markdown",
      "metadata": {
        "id": "02M1Qr5-8OU8",
        "colab_type": "text"
      },
      "source": [
        "Question 4:\n",
        "Consider a list of 10 elements of integer values. If the number in the list is divisible by 2, print the\n",
        "result as \"square of that number minus 2\"."
      ]
    },
    {
      "cell_type": "code",
      "metadata": {
        "id": "fl8JPOM28Tdk",
        "colab_type": "code",
        "colab": {
          "base_uri": "https://localhost:8080/",
          "height": 101
        },
        "outputId": "60ae8ae0-6476-4f7b-8682-7c194da101b0"
      },
      "source": [
        "l=[1, 2, 3, 4, 11, 12, 13, 14, 21, 22]\n",
        "for n in l:\n",
        "   if n%2==0:\n",
        "     print((n**2)-2)\n"
      ],
      "execution_count": 12,
      "outputs": [
        {
          "output_type": "stream",
          "text": [
            "2\n",
            "14\n",
            "142\n",
            "194\n",
            "482\n"
          ],
          "name": "stdout"
        }
      ]
    },
    {
      "cell_type": "markdown",
      "metadata": {
        "id": "MPoy3TQY8thQ",
        "colab_type": "text"
      },
      "source": [
        "Question 5:\n",
        "Consider a list of 10 elements. Print all the elements in the list which are greater than 7 when that\n",
        "number is divided 2."
      ]
    },
    {
      "cell_type": "code",
      "metadata": {
        "id": "Xuas03Rn8uTh",
        "colab_type": "code",
        "colab": {
          "base_uri": "https://localhost:8080/",
          "height": 118
        },
        "outputId": "c4f1bfe7-2d57-4d03-88bd-ec8e7022e153"
      },
      "source": [
        "l=[18, 28, 36, 43, 11, 12, 13, 14, 21, 22]\n",
        "for n in l:\n",
        "  if (n/2)>7:\n",
        "    print(n)"
      ],
      "execution_count": 13,
      "outputs": [
        {
          "output_type": "stream",
          "text": [
            "18\n",
            "28\n",
            "36\n",
            "43\n",
            "21\n",
            "22\n"
          ],
          "name": "stdout"
        }
      ]
    }
  ]
}