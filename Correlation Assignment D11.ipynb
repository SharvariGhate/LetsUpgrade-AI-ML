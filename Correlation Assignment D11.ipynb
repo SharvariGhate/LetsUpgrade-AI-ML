# -*- coding: utf-8 -*-
"""
Created on Wed Jul 22 16:04:49 2020

@author: Sharu
"""

import pandas as pd
dataset=pd.read_csv("general_data.csv")
dataset.head()
from scipy.stats import pearsonr

from sklearn import preprocessing
Label_encoder=preprocessing.LabelBinarizer()
dataset["Attrition"]=Label_encoder.fit_transform(dataset["Attrition"])
stats,p=pearsonr(dataset.Attrition, dataset.Age)

print(stats,p)


stats,p=pearsonr(dataset.Attrition, dataset.Education)

print(stats,p)


stats,p=pearsonr(dataset.Attrition, dataset.DistanceFromHome)

print(stats,p)


stats,p=pearsonr(dataset.Attrition, dataset.YearsWithCurrManager)

print(stats,p)


stats,p=pearsonr(dataset.Attrition, dataset.YearsSinceLastPromotion)

print(stats,p)


stats,p=pearsonr(dataset.Attrition, dataset.PercentSalaryHike)

print(stats,p)


# If p<0.05 we reject Ho and accept H1
