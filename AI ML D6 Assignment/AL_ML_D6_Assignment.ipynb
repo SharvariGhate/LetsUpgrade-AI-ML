{
  "nbformat": 4,
  "nbformat_minor": 0,
  "metadata": {
    "colab": {
      "name": "AL-ML_D6 Assignment.ipynb",
      "provenance": []
    },
    "kernelspec": {
      "name": "python3",
      "display_name": "Python 3"
    }
  },
  "cells": [
    {
      "cell_type": "markdown",
      "metadata": {
        "id": "-sD52_kB9ZrK",
        "colab_type": "text"
      },
      "source": [
        "Question 1:\n",
        "Assuming that we have some email addresses in the \"username@companyname.com\" format, please write program\n",
        "to print the company name of a given email address. Both user names and company names are composed of letters\n",
        "only."
      ]
    },
    {
      "cell_type": "code",
      "metadata": {
        "id": "SRoE67Vv9jNP",
        "colab_type": "code",
        "colab": {
          "base_uri": "https://localhost:8080/",
          "height": 84
        },
        "outputId": "d8c3f7e5-bba1-4fba-8850-366346cec219"
      },
      "source": [
        "Mail_address = input(\"Enter the mail id: \\n\")\n",
        "\n",
        "X=(Mail_address.find(\"@\"))\n",
        "Y=(Mail_address.find(\".\"))\n",
        "\n",
        "print(\"This Mail Id belongs to :\\n%s\"%(Mail_address[X+1:Y]))"
      ],
      "execution_count": 1,
      "outputs": [
        {
          "output_type": "stream",
          "text": [
            "Enter the mail id: \n",
            "sharvarighate@videojet.com\n",
            "This Mail Id belongs to :\n",
            "videojet\n"
          ],
          "name": "stdout"
        }
      ]
    },
    {
      "cell_type": "markdown",
      "metadata": {
        "id": "FZMiRTEU9_qY",
        "colab_type": "text"
      },
      "source": [
        "Question 2:\n",
        "Write a program that accepts a comma-separated sequence of words as input and prints the words in a comma\n",
        "separated sequence after sorting them alphabetically."
      ]
    },
    {
      "cell_type": "code",
      "metadata": {
        "id": "EA8Jvq-u-Fms",
        "colab_type": "code",
        "colab": {
          "base_uri": "https://localhost:8080/",
          "height": 34
        },
        "outputId": "b3c57f8a-57b1-44e2-edf1-0ede3edc2316"
      },
      "source": [
        "name=\"Sharvari,Nikesh,Ghate,Karuna\"\n",
        "x=\"\"\n",
        "y= name.split(\",\")\n",
        "z= sorted(y)\n",
        "for i in z:\n",
        "    x = x + i + \",\"\n",
        "\n",
        "print(x[0:-1])"
      ],
      "execution_count": 2,
      "outputs": [
        {
          "output_type": "stream",
          "text": [
            "Ghate,Karuna,Nikesh,Sharvari\n"
          ],
          "name": "stdout"
        }
      ]
    },
    {
      "cell_type": "markdown",
      "metadata": {
        "id": "TQvqIV4dBqzH",
        "colab_type": "text"
      },
      "source": [
        "Create your own Jupyter Notebook for Sets.\n",
        "Reference link: https://www.w3schools.com/python/python_sets.asp"
      ]
    },
    {
      "cell_type": "code",
      "metadata": {
        "id": "XwD0KgVoBv0N",
        "colab_type": "code",
        "colab": {
          "base_uri": "https://localhost:8080/",
          "height": 134
        },
        "outputId": "fd771f5c-93e6-4a3c-c1ce-ae006d5efb90"
      },
      "source": [
        "fitness = {\"yoga\" , \"meditation\" , \"zumba\"}\n",
        "print(\"yoga\" in fitness)\n",
        "fitness.add(\"weighttraining\")\n",
        "print(fitness)\n",
        "fitness.update([\"orange\", \"mango\", \"grapes\"])\n",
        "print(fitness)\n",
        "print(len(fitness))\n",
        "fitness.remove(\"grapes\")\n",
        "print(fitness)\n",
        "fitness.clear()\n",
        "print(fitness)\n",
        "set1 = {\"a\", \"b\" , \"c\"}\n",
        "set2 = {1, 2, 3}\n",
        "\n",
        "set3 = set1.union(set2)\n",
        "print(set3)\n"
      ],
      "execution_count": 11,
      "outputs": [
        {
          "output_type": "stream",
          "text": [
            "True\n",
            "{'zumba', 'meditation', 'yoga', 'weighttraining'}\n",
            "{'orange', 'zumba', 'mango', 'grapes', 'meditation', 'weighttraining', 'yoga'}\n",
            "7\n",
            "{'orange', 'zumba', 'mango', 'meditation', 'weighttraining', 'yoga'}\n",
            "set()\n",
            "{1, 2, 3, 'a', 'c', 'b'}\n"
          ],
          "name": "stdout"
        }
      ]
    },
    {
      "cell_type": "markdown",
      "metadata": {
        "id": "zxHiHdz-H1o6",
        "colab_type": "text"
      },
      "source": [
        "Question 4:\n",
        "Given a list of n-1 numbers ranging from 1 to n, your task is to find the missing number. There are no duplicates."
      ]
    },
    {
      "cell_type": "code",
      "metadata": {
        "id": "T6iwK7GSIBLR",
        "colab_type": "code",
        "colab": {
          "base_uri": "https://localhost:8080/",
          "height": 67
        },
        "outputId": "d72ae963-b031-4340-c0f0-c38aec3c5f5f"
      },
      "source": [
        "userinput=input(\"Enter numbers separated by a space.\\n\")\n",
        "inputlist= userinput.split(\" \")\n",
        "updatedinputlist=[]\n",
        "for i in inputlist:\n",
        "    updatedinputlist.append(int (i))\n",
        "\n",
        "for i in range(1, max(updatedinputlist)):\n",
        "    if i not in updatedinputlist:\n",
        "        print(i,end=\" \")\n",
        "    \n"
      ],
      "execution_count": 14,
      "outputs": [
        {
          "output_type": "stream",
          "text": [
            "Enter numbers separated by a space.\n",
            "2 3 4 6 8 9\n",
            "1 5 7 "
          ],
          "name": "stdout"
        }
      ]
    },
    {
      "cell_type": "markdown",
      "metadata": {
        "id": "IggEe_aQSnt2",
        "colab_type": "text"
      },
      "source": [
        "Question 5:\n",
        "With a given list L, write a program to print this list L after removing all duplicate values with original order reserved."
      ]
    },
    {
      "cell_type": "code",
      "metadata": {
        "id": "mDhFwMq_WY3r",
        "colab_type": "code",
        "colab": {
          "base_uri": "https://localhost:8080/",
          "height": 67
        },
        "outputId": "31bff458-85b3-487c-a8f1-05d67299372d"
      },
      "source": [
        "num_input = input(\"Enter the List of numbers separated by space:\\n\")\n",
        "\n",
        "num_list = num_input.split(\" \")\n",
        "\n",
        "new_list=[int(i) for i in num_list]\n",
        "            \n",
        "output_list=[]\n",
        "for i in new_list:\n",
        "    if i not in output_list:\n",
        "        output_list.append(i)\n",
        "        print(i,end=\" \")"
      ],
      "execution_count": 17,
      "outputs": [
        {
          "output_type": "stream",
          "text": [
            "Enter the List of numbers separated by space:\n",
            "2 3 4 5 5 7 11\n",
            "2 3 4 5 7 11 "
          ],
          "name": "stdout"
        }
      ]
    }
  ]
}